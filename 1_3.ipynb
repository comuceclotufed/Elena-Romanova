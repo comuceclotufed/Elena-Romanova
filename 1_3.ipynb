{
 "cells": [
  {
   "cell_type": "code",
   "execution_count": 4,
   "metadata": {},
   "outputs": [
    {
     "name": "stdout",
     "output_type": "stream",
     "text": [
      "пцтекисреоифн"
     ]
    }
   ],
   "source": [
    "def main(s, k):\n",
    "    if k == 0:\n",
    "        return\n",
    "    if k == 1:\n",
    "        print(s, end='')\n",
    "        return\n",
    "    for i in range(0, len(s), (k - 1) * 2):\n",
    "        print(s[i], end='')\n",
    "    for j in range(1, k - 1):\n",
    "        down = True\n",
    "        i = j\n",
    "        while i < len(s):\n",
    "            print(s[i], end='')\n",
    "            if down:\n",
    "                i += (k - j - 1) * 2\n",
    "            else:\n",
    "                i += (k - 1) * 2 - (k - j - 1) * 2\n",
    "            down = not down\n",
    "    for i in range(k - 1, len(s), (k - 1) * 2):\n",
    "        print(s[i], end='')\n",
    "\n",
    "if __name__ == '__main__':\n",
    "    k = 4\n",
    "    s = 'перфекционист'\n",
    "    main(s, k)"
   ]
  }
 ],
 "metadata": {
  "kernelspec": {
   "display_name": "Python 3.9.12 ('base')",
   "language": "python",
   "name": "python3"
  },
  "language_info": {
   "codemirror_mode": {
    "name": "ipython",
    "version": 3
   },
   "file_extension": ".py",
   "mimetype": "text/x-python",
   "name": "python",
   "nbconvert_exporter": "python",
   "pygments_lexer": "ipython3",
   "version": "3.9.12"
  },
  "orig_nbformat": 4,
  "vscode": {
   "interpreter": {
    "hash": "c42d99d755d00efaf066b964ceed011a4027ae5af520c8ef8190b9acee3a6094"
   }
  }
 },
 "nbformat": 4,
 "nbformat_minor": 2
}
