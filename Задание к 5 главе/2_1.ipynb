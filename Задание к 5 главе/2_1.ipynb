{
 "cells": [
  {
   "cell_type": "code",
   "execution_count": null,
   "metadata": {},
   "outputs": [],
   "source": [
    "def main():\n",
    "    s=str(input())\n",
    "    k=\"\"\n",
    "    d=\"\"\n",
    "    maxi=0\n",
    "    for i in range (0,len(s)):\n",
    "        if s[i] not in d:\n",
    "            k=k+str(s[i])\n",
    "            d=d+str(s[i])\n",
    "        else:\n",
    "            if len(k)>=maxi:\n",
    "                maxi==len(k)\n",
    "                rez=k\n",
    "                k=str(s[i])\n",
    "                d=str(s[i])\n",
    "                \n",
    "    print(rez)\n",
    "    \n",
    "if  __name__==\"__main__\":\n",
    "    main()"
   ]
  }
 ],
 "metadata": {
  "kernelspec": {
   "display_name": "Python 3.9.12 ('base')",
   "language": "python",
   "name": "python3"
  },
  "language_info": {
   "name": "python",
   "version": "3.9.12"
  },
  "orig_nbformat": 4,
  "vscode": {
   "interpreter": {
    "hash": "c42d99d755d00efaf066b964ceed011a4027ae5af520c8ef8190b9acee3a6094"
   }
  }
 },
 "nbformat": 4,
 "nbformat_minor": 2
}
